{
 "cells": [
  {
   "cell_type": "markdown",
   "id": "ab614a0c-5b72-40ad-bd02-ae145d9c93b6",
   "metadata": {},
   "source": [
    "Чтобы составить ключевую матрицу, в первую очередь нужно заполнить пустые ячейки матрицы буквами ключевого слова (не записывая повторяющиеся символы), потом заполнить оставшиеся ячейки матрицы символами алфавита, не встречающимися в ключевом слове, по порядку (заменяя «J» на «I»)."
   ]
  },
  {
   "cell_type": "markdown",
   "id": "249e83a4-14d3-43b7-9838-1593659a146a",
   "metadata": {},
   "source": [
    "Если два символа биграммы совпадают (или если остался один символ), добавляем после первого символа «Х», зашифровываем новую пару символов и продолжаем.\n",
    "\n",
    "Если символы биграммы исходного текста встречаются в одной строке, то эти символы замещаются на символы, расположенные в ближайших столбцах справа от соответствующих символов. Если символ является последним в строке, то он заменяется на первый символ этой же строки.\n",
    "\n",
    "Если символы биграммы исходного текста встречаются в одном столбце, то они преобразуются в символы того же столбца, находящиеся непосредственно под ними. Если символ является нижним в столбце, то он заменяется на первый символ этого же столбца.\n",
    "\n",
    "Если символы биграммы исходного текста находятся в разных столбцах и разных строках, то они заменяются на символы, находящиеся в тех же строках, но соответствующие другим углам прямоугольника."
   ]
  },
  {
   "cell_type": "code",
   "execution_count": 1,
   "id": "6f19e848-c322-4d2d-8580-d1c0948c7a36",
   "metadata": {},
   "outputs": [],
   "source": [
    "import numpy as np"
   ]
  },
  {
   "cell_type": "code",
   "execution_count": 3,
   "id": "8ffca7a8-6078-45a3-b338-866a6d57d5d9",
   "metadata": {},
   "outputs": [],
   "source": [
    "# Key generator function (based on keyword)\n",
    "# Function to generate the 5x5 matrix used as key in this algorithm\n",
    "def generate_key(keyword):\n",
    "  keyword = keyword.upper()\n",
    "  keyword = keyword.replace(' ', '')\n",
    "  keyword = keyword.replace('J', 'I')\n",
    "  alphabet = 'ABCDEFGHIKLMNOPQRSTUVWXYZ'\n",
    "  key = np.array([\n",
    "    ['', '', '', '', ''],\n",
    "    ['', '', '', '', ''],\n",
    "    ['', '', '', '', ''],\n",
    "    ['', '', '', '', ''],\n",
    "    ['', '', '', '', '']\n",
    "  ])\n",
    "  index = 0\n",
    "  for letter in keyword:\n",
    "    if letter in alphabet:\n",
    "      key[index // 5, index % 5] = letter\n",
    "      alphabet = alphabet.replace(letter, '')\n",
    "      index += 1\n",
    "  for letter in alphabet:\n",
    "    key[index // 5, index % 5] = letter\n",
    "    index += 1\n",
    "  return key"
   ]
  },
  {
   "cell_type": "code",
   "execution_count": 5,
   "id": "b3196ea7-a8f1-44b7-91ee-6cc09fb9f1e4",
   "metadata": {},
   "outputs": [],
   "source": [
    "#Encrypy function\n",
    "#Function to encrypt a given message using a given key with the playfair algorithm\n",
    "def encrypt(message, key):\n",
    "  message = message.upper()\n",
    "  message = message.replace(' ', '')\n",
    "  message = message.replace('J', 'I')\n",
    "  for index in range(0, len(message), 2):\n",
    "    if message[index] == message[index + 1]:\n",
    "      message = message[:index + 1] + 'X' + message[index + 1:]\n",
    "  if len(message) % 2 == 1:\n",
    "    message = message + 'X'\n",
    "  result = ''\n",
    "  for index in range(0, len(message), 2):\n",
    "    index0 = np.where(key == message[index])\n",
    "    index1 = np.where(key == message[index + 1])\n",
    "    if index0[0][0] == index1[0][0]:\n",
    "      result = result + key[index0[0][0], (index0[1][0] + 1) % 5] + key[index1[0][0], (index1[1][0] + 1) % 5]\n",
    "    elif index0[1][0] == index1[1][0]:\n",
    "      result = result + key[(index0[0][0] + 1) % 5, index0[1][0]] + key[(index1[0][0] + 1) % 5, index1[1][0]]\n",
    "    else:\n",
    "      result = result + key[index0[0][0], index1[1][0]] + key[index1[0][0], index0[1][0]]  \n",
    "  return result"
   ]
  },
  {
   "cell_type": "code",
   "execution_count": 7,
   "id": "b68fd4b1-4906-470a-82bc-ff9e942e2598",
   "metadata": {},
   "outputs": [],
   "source": [
    "#Decrypt function\n",
    "#Function to decrypt a given covered message using a given key with the playfair algorithm\n",
    "def decrypt(message, key):\n",
    "  result = ''\n",
    "  for index in range(0, len(message), 2):\n",
    "    index0 = np.where(key == message[index])\n",
    "    index1 = np.where(key == message[index + 1])\n",
    "    if index0[0][0] == index1[0][0]:\n",
    "      result = result + key[index0[0][0], (index0[1][0] + 4) % 5] + key[index1[0][0], (index1[1][0] + 4) % 5]\n",
    "    elif index0[1][0] == index1[1][0]:\n",
    "      result = result + key[(index0[0][0] + 4) % 5, index0[1][0]] + key[(index1[0][0] + 4) % 5, index1[1][0]]\n",
    "    else:\n",
    "      result = result + key[index0[0][0], index1[1][0]] + key[index1[0][0], index0[1][0]]  \n",
    "  return result"
   ]
  },
  {
   "cell_type": "code",
   "execution_count": 8,
   "id": "c1980bba-2647-4fbd-98d1-0b732cfc97c5",
   "metadata": {},
   "outputs": [],
   "source": [
    "#Playfair function\n",
    "def playfair(message, key, decrypt_mode=True):\n",
    "  if decrypt_mode:\n",
    "    return decrypt(message, key)\n",
    "  else:\n",
    "    return encrypt(message, key)"
   ]
  },
  {
   "cell_type": "code",
   "execution_count": 22,
   "id": "93a99afb-cc06-4109-82d6-8973705db58b",
   "metadata": {},
   "outputs": [
    {
     "name": "stdout",
     "output_type": "stream",
     "text": [
      "Ключ: \n",
      " [['V' 'L' 'A' 'D' 'I']\n",
      " ['S' 'R' 'T' 'U' 'O']\n",
      " ['C' 'H' 'B' 'E' 'F']\n",
      " ['G' 'K' 'M' 'N' 'P']\n",
      " ['Q' 'W' 'X' 'Y' 'Z']]\n",
      "Текст для шифра: \n",
      " BAIDIN\n",
      "Шифрованный текст: \n",
      " MTVIDP\n",
      "Дешефрованный текст: \n",
      " BAIDIN\n"
     ]
    }
   ],
   "source": [
    "# Generate playfair key using keyword 'CRYPTOGRAPHY'\n",
    "key = generate_key('VLADISLAVARTUROVICH')\n",
    "print(\"Ключ: \\n\", key)\n",
    "\n",
    "# Define the message to encrypt using this algorithm\n",
    "message = 'BAIDIN' \n",
    "print(\"Текст для шифра: \\n\", message)\n",
    "\n",
    "# Cipher the message using the playfair algorithm\n",
    "ciphertext = playfair(message, key, decrypt_mode=False)\n",
    "print(\"Шифрованный текст: \\n\", ciphertext)\n",
    "\n",
    "# Recover the original message using the playfair algorithm (undebugged message)\n",
    "recovered_message = playfair(ciphertext, key, decrypt_mode=True)\n",
    "print(\"Дешефрованный текст: \\n\", recovered_message)"
   ]
  }
 ],
 "metadata": {
  "kernelspec": {
   "display_name": "Python 3 (ipykernel)",
   "language": "python",
   "name": "python3"
  },
  "language_info": {
   "codemirror_mode": {
    "name": "ipython",
    "version": 3
   },
   "file_extension": ".py",
   "mimetype": "text/x-python",
   "name": "python",
   "nbconvert_exporter": "python",
   "pygments_lexer": "ipython3",
   "version": "3.9.7"
  }
 },
 "nbformat": 4,
 "nbformat_minor": 5
}
