{
 "cells": [
  {
   "cell_type": "markdown",
   "id": "e7ebbf8b-a559-4c2b-94d4-89c9973c9777",
   "metadata": {
    "tags": []
   },
   "source": [
    "Если $${\\displaystyle n}$$  — количество букв в алфавите, $${\\displaystyle m_{j}} $$— номер буквы открытого текста,  $${\\displaystyle k_{j}}$$ — номер буквы ключа в алфавите, то шифрование Виженера можно записать следующим образом:\n",
    "\n",
    "$${\\displaystyle c_{j}=(m_{j}+k_{j})\\mod {n}}$$\n",
    "\n",
    "И расшифровывание:\n",
    "\n",
    "$${\\displaystyle m_{j}=(c_{j}-k_{j})\\mod {n}}$$"
   ]
  },
  {
   "cell_type": "code",
   "execution_count": 41,
   "id": "de6f6d2f-1487-4e73-aaf6-d7dfdf0b245d",
   "metadata": {},
   "outputs": [
    {
     "name": "stdin",
     "output_type": "stream",
     "text": [
      "Текст для шифрования :  VLADISLAVARTUROVICH\n",
      "Ключ :  BAIDIN\n"
     ]
    },
    {
     "name": "stdout",
     "output_type": "stream",
     "text": [
      "Преобразованный ключ:  B A I D I N B A I D I N B A I D I N B\n",
      "Шифрованный текст :  WLIGQFMADDZGVRWYQPI\n"
     ]
    }
   ],
   "source": [
    "def vigenere_cipher_encrypt(text, key):\n",
    "    \n",
    "    t = list(text)\n",
    "    key = list(key) \n",
    "\n",
    "# Checking the length of key and text are equal or not \n",
    "\n",
    "    if len(text) == len(key):\n",
    "        key = key\n",
    "    else:\n",
    "        subtraction =  len(text) - len(key)\n",
    "        for i in range(subtraction):\n",
    "            h = key[i % len(key)]\n",
    "            key.append(h)\n",
    "\n",
    "  \n",
    "    textt=[]\n",
    "    \n",
    "    k = key\n",
    "    print('Преобразованный ключ: ', *k)\n",
    "    for i in range(len(t)):\n",
    "\n",
    "      #Encrypting uppercase characters\n",
    "      if (t[i].isupper()):\n",
    "         m = chr(((ord(t[i]) - 65 ) + (ord(k[i]) - 65)) % 26 + ord('A'))      \n",
    "         textt.append(m)\n",
    "\n",
    "      # Encrypting lowercase characters\n",
    "      elif (t[i].islower()):\n",
    "          m =  chr(((ord(t[i]) - 97 ) + (ord(k[i]) - 97)) % 26 + ord('a'))   \n",
    "          textt.append(m)\n",
    "\n",
    "      # Checking empty list index \n",
    "      else:\n",
    "        textt.append(\" \")\n",
    "\n",
    "    texttt =\"\"\n",
    "    return (texttt.join(textt))\n",
    " \n",
    "\n",
    "\n",
    "#checking the vigenere_cipher_encrypt function  \n",
    "vigenere_text = input(\"Текст для шифрования : \")\n",
    "vigenere_key = input(\"Ключ : \")\n",
    "\n",
    "\n",
    "print (\"Шифрованный текст : \", vigenere_cipher_encrypt(vigenere_text, vigenere_key))"
   ]
  },
  {
   "cell_type": "code",
   "execution_count": 42,
   "id": "6860c5c4-9b6c-4a03-a2f5-198e01ee8945",
   "metadata": {},
   "outputs": [
    {
     "name": "stdout",
     "output_type": "stream",
     "text": [
      "Преобразованный ключ:  B A I D I N B A I D I N B A I D I N B\n",
      "Дешифрованный текст :  VLADISLAVARTUROVICH\n"
     ]
    }
   ],
   "source": [
    "# Python codes for Vigenere Cipher decryption\n",
    "\n",
    "def vigenere_cipher_decrypt(text, key):\n",
    "\n",
    "   \n",
    "    t = list(text)\n",
    "    key = list(key) \n",
    "\n",
    "# Checking the length of key and text are equal or not \n",
    "\n",
    "    if len(text) == len(key):\n",
    "        key = key\n",
    "    else:\n",
    "        subtraction =  len(text) - len(key)\n",
    "        for i in range(subtraction):\n",
    "            h = key[i % len(key)]\n",
    "            key.append(h)\n",
    "\n",
    "  \n",
    "    textt=[]\n",
    "      \n",
    "    k = key\n",
    "\n",
    "    for i in range(len(t)):\n",
    "\n",
    "     #Encrypting uppercase characters\n",
    "       if (t[i].isupper()):\n",
    "           m = chr(((ord(t[i]) - 65 ) - (ord(k[i]) - 65)) % 26 + ord('A'))  \n",
    "           textt.append(m)\n",
    "\n",
    "      # Encrypting lowercase characters\n",
    "       elif (t[i].islower()):\n",
    "          m =  chr(((ord(t[i]) - 97 ) - (ord(k[i]) - 97)) % 26 + ord('a')) \n",
    "          textt.append(m)\n",
    "\n",
    "      # Checking empty list index \n",
    "       else:\n",
    "         textt.append(\" \")\n",
    "\n",
    "    texttt =\"\"\n",
    "    return (texttt.join(textt))\n",
    "\n",
    "decryption = vigenere_cipher_encrypt(vigenere_text, vigenere_key)\n",
    "\n",
    "print (\"Дешифрованный текст : \", vigenere_cipher_decrypt(decryption, vigenere_key))"
   ]
  },
  {
   "cell_type": "markdown",
   "id": "5155eb19-0de6-4ea6-ac96-a688255d7e68",
   "metadata": {},
   "source": [
    "A B C D E F G H I J K L M N O P Q R S T U V W X Y Z \n",
    "\n",
    "B C D E F G H I J K L M N O P Q R S T U V W X Y Z A \n",
    "\n",
    "C D E F G H I J K L M N O P Q R S T U V W X Y Z A B \n",
    "\n",
    "D E F G H I J K L M N O P Q R S T U V W X Y Z A B C \n",
    "\n",
    "E F G H I J K L M N O P Q R S T U V W X Y Z A B C D \n",
    "\n",
    "F G H I J K L M N O P Q R S T U V W X Y Z A B C D E \n",
    "\n",
    "G H I J K L M N O P Q R S T U V W X Y Z A B C D E F \n",
    "\n",
    "H I J K L M N O P Q R S T U V W X Y Z A B C D E F G \n",
    "\n",
    "I J K L M N O P Q R S T U V W X Y Z A B C D E F G H \n",
    "\n",
    "J K L M N O P Q R S T U V W X Y Z A B C D E F G H I \n",
    "\n",
    "K L M N O P Q R S T U V W X Y Z A B C D E F G H I J \n",
    "\n",
    "L M N O P Q R S T U V W X Y Z A B C D E F G H I J K \n",
    "\n",
    "M N O P Q R S T U V W X Y Z A B C D E F G H I J K L \n",
    "\n",
    "N O P Q R S T U V W X Y Z A B C D E F G H I J K L M \n",
    "\n",
    "O P Q R S T U V W X Y Z A B C D E F G H I J K L M N \n",
    "\n",
    "P Q R S T U V W X Y Z A B C D E F G H I J K L M N O \n",
    "\n",
    "Q R S T U V W X Y Z A B C D E F G H I J K L M N O P \n",
    "\n",
    "R S T U V W X Y Z A B C D E F G H I J K L M N O P Q \n",
    "\n",
    "S T U V W X Y Z A B C D E F G H I J K L M N O P Q R \n",
    "\n",
    "T U V W X Y Z A B C D E F G H I J K L M N O P Q R S \n",
    "\n",
    "U V W X Y Z A B C D E F G H I J K L M N O P Q R S T \n",
    "\n",
    "V W X Y Z A B C D E F G H I J K L M N O P Q R S T U \n",
    "\n",
    "W X Y Z A B C D E F G H I J K L M N O P Q R S T U V \n",
    "\n",
    "X Y Z A B C D E F G H I J K L M N O P Q R S T U V W \n",
    "\n",
    "Y Z A B C D E F G H I J K L M N O P Q R S T U V W X \n",
    "\n",
    "Z A B C D E F G H I J K L M N O P Q R S T U V W X Y"
   ]
  }
 ],
 "metadata": {
  "kernelspec": {
   "display_name": "Python 3 (ipykernel)",
   "language": "python",
   "name": "python3"
  },
  "language_info": {
   "codemirror_mode": {
    "name": "ipython",
    "version": 3
   },
   "file_extension": ".py",
   "mimetype": "text/x-python",
   "name": "python",
   "nbconvert_exporter": "python",
   "pygments_lexer": "ipython3",
   "version": "3.9.7"
  }
 },
 "nbformat": 4,
 "nbformat_minor": 5
}
