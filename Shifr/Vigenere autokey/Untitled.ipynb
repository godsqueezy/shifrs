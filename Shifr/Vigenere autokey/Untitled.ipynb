{
 "cells": [
  {
   "cell_type": "code",
   "execution_count": 16,
   "id": "f91a67f3-66b2-4eee-8cc9-817e30c1f05b",
   "metadata": {},
   "outputs": [
    {
     "name": "stdin",
     "output_type": "stream",
     "text": [
      "Текст для шифрования :  VLADISLAVARTUROVICH\n",
      "Ключ :  BAIDIN\n"
     ]
    },
    {
     "name": "stdout",
     "output_type": "stream",
     "text": [
      "Преобразованный ключ:  B A I D I N V L A D I S L A V A R T U\n",
      "Шифрованный текст :  WLIGQFGLVDZLFRJVZVB\n"
     ]
    }
   ],
   "source": [
    "def vigenere_cipher_encrypt(text, key):\n",
    "    \n",
    "    t = list(text)\n",
    "    key = list(key) \n",
    "\n",
    "# Checking the length of key and text are equal or not \n",
    "\n",
    "    if len(text) == len(key):\n",
    "        key = key\n",
    "    else:\n",
    "        subtraction =  len(text) - len(key)\n",
    "        for i in range(subtraction):\n",
    "            h = t[i % len(key)]\n",
    "            key.append(h)\n",
    "\n",
    "  \n",
    "    textt=[]\n",
    "    \n",
    "    k = key\n",
    "    print('Преобразованный ключ: ', *k)\n",
    "    for i in range(len(t)):\n",
    "\n",
    "      #Encrypting uppercase characters\n",
    "      if (t[i].isupper()):\n",
    "         m = chr(((ord(t[i]) - 65 ) + (ord(k[i]) - 65)) % 26 + ord('A'))      \n",
    "         textt.append(m)\n",
    "\n",
    "      # Encrypting lowercase characters\n",
    "      elif (t[i].islower()):\n",
    "          m =  chr(((ord(t[i]) - 97 ) + (ord(k[i]) - 97)) % 26 + ord('a'))   \n",
    "          textt.append(m)\n",
    "\n",
    "      # Checking empty list index \n",
    "      else:\n",
    "        textt.append(\" \")\n",
    "\n",
    "    texttt =\"\"\n",
    "    return (texttt.join(textt))\n",
    " \n",
    "\n",
    "\n",
    "#checking the vigenere_cipher_encrypt function  \n",
    "vigenere_text = input(\"Текст для шифрования : \")\n",
    "vigenere_key = input(\"Ключ : \")\n",
    "\n",
    "\n",
    "print (\"Шифрованный текст : \", vigenere_cipher_encrypt(vigenere_text, vigenere_key))"
   ]
  },
  {
   "cell_type": "code",
   "execution_count": 14,
   "id": "d9535ee2-bad5-498a-9bf2-49527432c42a",
   "metadata": {},
   "outputs": [
    {
     "name": "stdout",
     "output_type": "stream",
     "text": [
      "Дешифрованный текст :  VLADISLAVARTUROVICH\n"
     ]
    }
   ],
   "source": [
    "# Python codes for Vigenere Cipher decryption\n",
    "\n",
    "def vigenere_cipher_decrypt(text, key):\n",
    "\n",
    "   \n",
    "    t = list(text)\n",
    "    key = list(key) \n",
    "\n",
    "# Checking the length of key and text are equal or not \n",
    "\n",
    "    if len(text) == len(key):\n",
    "        key = key\n",
    "    else:\n",
    "        subtraction =  len(text) - len(key)\n",
    "        for i in range(subtraction):\n",
    "            h = t[i % len(key)]\n",
    "            key.append(h)\n",
    "\n",
    "  \n",
    "    textt=[]\n",
    "      \n",
    "    k = key\n",
    "\n",
    "    for i in range(len(t)):\n",
    "\n",
    "     #Encrypting uppercase characters\n",
    "       if (t[i].isupper()):\n",
    "           m = chr(((ord(t[i]) - 65 ) - (ord(k[i]) - 65)) % 26 + ord('A'))  \n",
    "           textt.append(m)\n",
    "\n",
    "      # Encrypting lowercase characters\n",
    "       elif (t[i].islower()):\n",
    "          m =  chr(((ord(t[i]) - 97 ) - (ord(k[i]) - 97)) % 26 + ord('a')) \n",
    "          textt.append(m)\n",
    "\n",
    "      # Checking empty list index \n",
    "       else:\n",
    "         textt.append(\" \")\n",
    "\n",
    "    texttt =\"\"\n",
    "    return (texttt.join(textt))\n",
    "\n",
    "decryption = 'WLIGQFGLVDZLFRJVZVB'\n",
    "print (\"Дешифрованный текст : \", vigenere_cipher_decrypt(decryption, 'BAIDINVLADISLAVARTU'))"
   ]
  }
 ],
 "metadata": {
  "kernelspec": {
   "display_name": "Python 3 (ipykernel)",
   "language": "python",
   "name": "python3"
  },
  "language_info": {
   "codemirror_mode": {
    "name": "ipython",
    "version": 3
   },
   "file_extension": ".py",
   "mimetype": "text/x-python",
   "name": "python",
   "nbconvert_exporter": "python",
   "pygments_lexer": "ipython3",
   "version": "3.9.7"
  }
 },
 "nbformat": 4,
 "nbformat_minor": 5
}
