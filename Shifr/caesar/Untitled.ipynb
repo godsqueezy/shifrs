{
 "cells": [
  {
   "cell_type": "code",
   "execution_count": 8,
   "id": "cae28532-b188-415e-aeaf-c939a103470d",
   "metadata": {},
   "outputs": [
    {
     "name": "stdout",
     "output_type": "stream",
     "text": [
      "Алфавит\n",
      "ABCDEFGHIJKLMNOPQRSTUVWXYZ\n",
      "Сдвигаем алфавит на 3\n",
      "DEFGHIJKLMNOPQRSTUVWXYZABC\n",
      "\n",
      "Текст для шифровки BAIDIN\n",
      "Шифрованный текст EDLGLQ\n"
     ]
    }
   ],
   "source": [
    "import string\n",
    "\n",
    "text = \"BAIDIN\"\n",
    "shift = 3\n",
    "text = text.lower()\n",
    "\n",
    "alphabet = string.ascii_lowercase\n",
    "shifted = alphabet[shift:] + alphabet[:shift]\n",
    "\n",
    "table = str.maketrans(alphabet, shifted)\n",
    "\n",
    "encrypted = text.translate(table)\n",
    "\n",
    "print('Алфавит')\n",
    "print(alphabet.upper())\n",
    "print('Сдвигаем алфавит на 3')\n",
    "print(shifted.upper())\n",
    "print()\n",
    "print('Текст для шифровки', text.upper())\n",
    "print('Шифрованный текст', encrypted.upper())\n"
   ]
  }
 ],
 "metadata": {
  "kernelspec": {
   "display_name": "Python 3 (ipykernel)",
   "language": "python",
   "name": "python3"
  },
  "language_info": {
   "codemirror_mode": {
    "name": "ipython",
    "version": 3
   },
   "file_extension": ".py",
   "mimetype": "text/x-python",
   "name": "python",
   "nbconvert_exporter": "python",
   "pygments_lexer": "ipython3",
   "version": "3.9.7"
  }
 },
 "nbformat": 4,
 "nbformat_minor": 5
}
