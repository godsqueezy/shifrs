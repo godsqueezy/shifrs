{
 "cells": [
  {
   "cell_type": "code",
   "execution_count": 1,
   "id": "405ff092-638a-45e4-9a56-eb014bb70922",
   "metadata": {},
   "outputs": [],
   "source": [
    "from sympy import *\n",
    "from hill_cipher import *\n",
    "from egcd import egcd\n",
    "init_printing(use_latex='mathjax')"
   ]
  },
  {
   "cell_type": "code",
   "execution_count": 2,
   "id": "e1b85194-8ec9-4801-9abf-bd8909f36845",
   "metadata": {},
   "outputs": [
    {
     "name": "stdout",
     "output_type": "stream",
     "text": [
      "Ключевая матрица\n"
     ]
    },
    {
     "data": {
      "text/plain": [
       "array([[ 4, 18,  5],\n",
       "       [10, 11, 19],\n",
       "       [25,  5, 23]])"
      ]
     },
     "execution_count": 2,
     "metadata": {},
     "output_type": "execute_result"
    }
   ],
   "source": [
    "K = np.array([[4, 18, 5], [10, 11, 19], [25, 5, 23]])\n",
    "print('Ключевая матрица')\n",
    "K"
   ]
  },
  {
   "cell_type": "code",
   "execution_count": 3,
   "id": "ed065cbb-fac8-442b-8f6a-6a142323b034",
   "metadata": {},
   "outputs": [],
   "source": [
    "message = \"VLADISLAV\""
   ]
  },
  {
   "cell_type": "code",
   "execution_count": 4,
   "id": "104c9b23-5e23-4b28-976e-3559d72d0318",
   "metadata": {},
   "outputs": [
    {
     "name": "stdout",
     "output_type": "stream",
     "text": [
      "  _  A  B  C  D  E  F  G  H  I  J  K  L  M  N  O  P  Q  R  S  T  U  V  W  X  Y  Z\n",
      "  0  1  2  3  4  5  6  7  8  9 10 11 12 13 14 15 16 17 18 19 20 21 22 23 24 25 26"
     ]
    }
   ],
   "source": [
    "show_encoding()"
   ]
  },
  {
   "cell_type": "code",
   "execution_count": 5,
   "id": "26084277-c636-4043-8310-6ecc64b91a00",
   "metadata": {},
   "outputs": [
    {
     "data": {
      "text/latex": [
       "$\\displaystyle \\left[ 22, \\  12, \\  1, \\  4, \\  9, \\  19, \\  12, \\  1, \\  22\\right]$"
      ],
      "text/plain": [
       "[22, 12, 1, 4, 9, 19, 12, 1, 22]"
      ]
     },
     "execution_count": 5,
     "metadata": {},
     "output_type": "execute_result"
    }
   ],
   "source": [
    "numbers = char2num(message)\n",
    "numbers"
   ]
  },
  {
   "cell_type": "code",
   "execution_count": 6,
   "id": "384838ee-2645-4f9d-8811-d708aa26b7a5",
   "metadata": {},
   "outputs": [
    {
     "name": "stdout",
     "output_type": "stream",
     "text": [
      "Разбиваем VLADISLAV на вектора\n"
     ]
    },
    {
     "data": {
      "text/plain": [
       "(array([22, 12,  1]), array([ 4,  9, 19]), array([12,  1, 22]))"
      ]
     },
     "execution_count": 6,
     "metadata": {},
     "output_type": "execute_result"
    }
   ],
   "source": [
    "print('Разбиваем VLADISLAV на вектора')\n",
    "v1 = np.array(numbers[:3])  # a vector consisting of the first 3 entries of the list\n",
    "v2 = np.array(numbers[3:6]) # a vector consisting of the next 3 entries of the list\n",
    "v3 = np.array(numbers[6:]) # and so on...\n",
    "v1, v2, v3"
   ]
  },
  {
   "cell_type": "code",
   "execution_count": 7,
   "id": "80c3db22-c8ee-4824-bebd-c7f5b609646c",
   "metadata": {},
   "outputs": [
    {
     "name": "stdout",
     "output_type": "stream",
     "text": [
      "Перемножаем Ключевую матрицу с векторами слова VLADISLAV по модулю 27\n"
     ]
    },
    {
     "data": {
      "text/plain": [
       "(array([12, 20, 12]), array([ 3, 14, 15]), array([14,  9,  1]))"
      ]
     },
     "execution_count": 7,
     "metadata": {},
     "output_type": "execute_result"
    }
   ],
   "source": [
    "print('Перемножаем Ключевую матрицу с векторами слова VLADISLAV по модулю 27')\n",
    "w1 = np.matmul(K, v1) % 27\n",
    "w2 = np.matmul(K, v2) % 27\n",
    "w3 = np.matmul(K, v3) % 27\n",
    "w1, w2, w3"
   ]
  },
  {
   "cell_type": "code",
   "execution_count": 8,
   "id": "858510f2-7c43-4757-b454-9d8aecb656d1",
   "metadata": {},
   "outputs": [
    {
     "name": "stdout",
     "output_type": "stream",
     "text": [
      "Переводим значение цифер в буквы\n",
      "  12  20  12   3  14  15  14   9   1\n",
      "   L   T   L   C   N   O   N   I   A\n",
      "\n"
     ]
    }
   ],
   "source": [
    "print('Переводим значение цифер в буквы')\n",
    "num2char([12, 20, 12, 3, 14, 15, 14, 9, 1])"
   ]
  },
  {
   "cell_type": "code",
   "execution_count": 9,
   "id": "1e1ff046-26dd-4679-9504-39862bbfd7d2",
   "metadata": {},
   "outputs": [
    {
     "name": "stdout",
     "output_type": "stream",
     "text": [
      "Находим определитель матрицы по модулю 27\n"
     ]
    },
    {
     "data": {
      "text/latex": [
       "$\\displaystyle 14$"
      ],
      "text/plain": [
       "14"
      ]
     },
     "execution_count": 9,
     "metadata": {},
     "output_type": "execute_result"
    }
   ],
   "source": [
    "det = int(np.round(np.linalg.det(K)))\n",
    "det_inv = egcd(det, 27)[1] % 27\n",
    "print('Находим определитель матрицы по модулю 27')\n",
    "det_inv"
   ]
  },
  {
   "cell_type": "code",
   "execution_count": 10,
   "id": "9dae1616-5a89-419f-b282-dd2a43ffab2a",
   "metadata": {},
   "outputs": [
    {
     "name": "stdout",
     "output_type": "stream",
     "text": [
      "Находим обратную матрицу, умножая определитель матрицы на матрицу алгб. дополнений по модулю 27\n"
     ]
    },
    {
     "data": {
      "text/plain": [
       "array([[25,  8, 22],\n",
       "       [ 1, 24, 14],\n",
       "       [ 9, 26, 13]])"
      ]
     },
     "execution_count": 10,
     "metadata": {},
     "output_type": "execute_result"
    }
   ],
   "source": [
    "matrix_modulus_inv = (\n",
    "        det_inv * np.round(det * np.linalg.inv(K)).astype(int) % 27\n",
    "    )\n",
    "print('Находим обратную матрицу, умножая определитель матрицы на матрицу алгб. дополнений по модулю 27')\n",
    "matrix_modulus_inv"
   ]
  },
  {
   "cell_type": "code",
   "execution_count": 11,
   "id": "5ca65040-c12a-4f0c-8490-ba2095f08891",
   "metadata": {},
   "outputs": [
    {
     "name": "stdout",
     "output_type": "stream",
     "text": [
      "Перемножаем обратную матрицу с векторами зашифровоного слова\n"
     ]
    },
    {
     "data": {
      "text/plain": [
       "(array([22, 12,  1]), array([ 4,  9, 19]), array([12,  1, 22]))"
      ]
     },
     "execution_count": 11,
     "metadata": {},
     "output_type": "execute_result"
    }
   ],
   "source": [
    "decrypt1 = np.matmul(matrix_modulus_inv, w1) % 27\n",
    "decrypt2 = np.matmul(matrix_modulus_inv, w2) % 27\n",
    "decrypt3 = np.matmul(matrix_modulus_inv, w3) % 27\n",
    "print('Перемножаем обратную матрицу с векторами зашифровоного слова')\n",
    "decrypt1, decrypt2, decrypt3"
   ]
  },
  {
   "cell_type": "code",
   "execution_count": 12,
   "id": "69340d94-b8e7-4bc1-ac47-5d3da8b5b9a6",
   "metadata": {},
   "outputs": [
    {
     "name": "stdout",
     "output_type": "stream",
     "text": [
      "Переводим значение цифер в буквы из полученных векторов\n",
      "  22  12   1   4   9  19  12   1  22\n",
      "   V   L   A   D   I   S   L   A   V\n",
      "\n"
     ]
    }
   ],
   "source": [
    "print('Переводим значение цифер в буквы из полученных векторов')\n",
    "num2char([22, 12, 1, 4, 9, 19, 12, 1, 22])"
   ]
  }
 ],
 "metadata": {
  "kernelspec": {
   "display_name": "Python 3 (ipykernel)",
   "language": "python",
   "name": "python3"
  },
  "language_info": {
   "codemirror_mode": {
    "name": "ipython",
    "version": 3
   },
   "file_extension": ".py",
   "mimetype": "text/x-python",
   "name": "python",
   "nbconvert_exporter": "python",
   "pygments_lexer": "ipython3",
   "version": "3.9.7"
  }
 },
 "nbformat": 4,
 "nbformat_minor": 5
}
